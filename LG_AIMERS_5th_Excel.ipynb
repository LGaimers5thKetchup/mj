{
  "nbformat": 4,
  "nbformat_minor": 0,
  "metadata": {
    "colab": {
      "provenance": []
    },
    "kernelspec": {
      "name": "python3",
      "display_name": "Python 3"
    },
    "language_info": {
      "name": "python"
    }
  },
  "cells": [
    {
      "cell_type": "code",
      "execution_count": null,
      "metadata": {
        "id": "f4p2JgiHYGop"
      },
      "outputs": [],
      "source": [
        "import pandas as pd\n",
        "\n",
        "def convert_excel_to_csv_with_multiheader(excel_file_path, csv_file_path):\n",
        "    # 엑셀 파일 읽기\n",
        "    df = pd.read_excel(excel_file_path, header=[0, 1])\n",
        "\n",
        "    # 다중 헤더를 하나의 문자열로 합치기.\n",
        "    df.columns = ['_'.join(map(str, col)).strip() for col in df.columns.values]\n",
        "\n",
        "    # CSV 파일로 저장.\n",
        "    df.to_csv(csv_file_path, index=False, encoding='utf-8')\n",
        "\n",
        "# 사용 예시\n",
        "excel_file_path = '/content/gdrive/MyDrive/Colab Notebooks/LG AIMERS 5기/Dam dispensing.xlsx'\n",
        "csv_file_path = '/content/gdrive/MyDrive/Colab Notebooks/LG AIMERS 5기/modified_damdispensing2.csv'\n",
        "convert_excel_to_csv_with_multiheader(excel_file_path, csv_file_path)"
      ]
    }
  ]
}